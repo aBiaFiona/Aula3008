{
  "nbformat": 4,
  "nbformat_minor": 0,
  "metadata": {
    "colab": {
      "name": "nossoAmbiente.ipynb",
      "provenance": [],
      "include_colab_link": true
    },
    "kernelspec": {
      "name": "python3",
      "display_name": "Python 3"
    },
    "language_info": {
      "name": "python"
    }
  },
  "cells": [
    {
      "cell_type": "markdown",
      "metadata": {
        "id": "view-in-github",
        "colab_type": "text"
      },
      "source": [
        "<a href=\"https://colab.research.google.com/github/aBiaFiona/Aula3008/blob/main/nossoAmbiente.ipynb\" target=\"_parent\"><img src=\"https://colab.research.google.com/assets/colab-badge.svg\" alt=\"Open In Colab\"/></a>"
      ]
    },
    {
      "cell_type": "markdown",
      "source": [
        "**UNIVERSIDADE FEDERAL DO RIO GRANDE DO NORTE**  DEPARTAMENTO DE ENGENHARIA MECÂNICA\n",
        "PROF. CARLOS MAGNO\n",
        "\n",
        "---\n",
        "ALUNA: ANNA BEATRYZ GOMES DA SILVA ANDRADE\n",
        "\n",
        "CURSO: ENGENHARIA DE PRODUÇÃO\n",
        "\n",
        "---\n",
        "MEU PRIMEIRO PROGRAMA\n",
        "\n"
      ],
      "metadata": {
        "id": "wC__kzg6nGAS"
      }
    },
    {
      "cell_type": "code",
      "metadata": {
        "colab": {
          "base_uri": "https://localhost:8080/"
        },
        "id": "LLw8dNhWa0na",
        "outputId": "3b672b03-3bbc-4389-907b-21259ca3405b"
      },
      "source": [
        "# OBJETIVO = INSERIR OS VALORES DA NOTA1 E NOTA2 E FAZER A MEDIA\n",
        "nota1 = 9\n",
        "nota2 = 6\n",
        "#operação\n",
        "media = (nota1 + nota2)/2\n",
        "#saida\n",
        "print(media)"
      ],
      "execution_count": 1,
      "outputs": [
        {
          "output_type": "stream",
          "name": "stdout",
          "text": [
            "7.5\n"
          ]
        }
      ]
    }
  ]
}